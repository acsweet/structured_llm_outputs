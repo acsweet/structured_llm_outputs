{
 "cells": [
  {
   "cell_type": "code",
   "execution_count": 2,
   "id": "de1fa631-fa8c-40d4-97c9-292ee3be655f",
   "metadata": {},
   "outputs": [],
   "source": [
    "import re\n",
    "import json\n",
    "from pydantic import BaseModel\n",
    "from typing import List\n",
    "\n",
    "from openai import OpenAI\n",
    "client = OpenAI()"
   ]
  },
  {
   "cell_type": "markdown",
   "id": "ef05eae6-05ad-4df8-b6d0-5cda528f1d19",
   "metadata": {},
   "source": [
    "# The Beginning\n",
    "### A simple prompt for some data\n",
    "- let's prompt the model for some simple information"
   ]
  },
  {
   "cell_type": "code",
   "execution_count": 3,
   "id": "40011893-d608-430e-876b-8c843d943739",
   "metadata": {},
   "outputs": [],
   "source": [
    "completion = client.chat.completions.create(\n",
    "    model=\"gpt-4o-mini\",\n",
    "    messages=[\n",
    "        {\"role\": \"system\", \"content\": \"You are a helpful assistant.\"},\n",
    "        {\n",
    "            \"role\": \"user\",\n",
    "            \"content\": \"What are the radii and masses of the planets in our solar system?\"\n",
    "        }\n",
    "    ]\n",
    ")"
   ]
  },
  {
   "cell_type": "code",
   "execution_count": 5,
   "id": "06c71279-40de-45f8-bedc-c48d7996323f",
   "metadata": {},
   "outputs": [
    {
     "name": "stdout",
     "output_type": "stream",
     "text": [
      "Here is a summary of the average radii and masses of the planets in our solar system:\n",
      "\n",
      "1. **Mercury**\n",
      "   - Radius: 2,439.7 km\n",
      "   - Mass: \\(3.301 \\times 10^{23}\\) kg\n",
      "\n",
      "2. **Venus**\n",
      "   - Radius: 6,051.8 km\n",
      "   - Mass: \\(4.867 \\times 10^{24}\\) kg\n",
      "\n",
      "3. **Earth**\n",
      "   - Radius: 6,371 km\n",
      "   - Mass: \\(5.972 \\times 10^{24}\\) kg\n",
      "\n",
      "4. **Mars**\n",
      "   - Radius: 3,389.5 km\n",
      "   - Mass: \\(6.417 \\times 10^{23}\\) kg\n",
      "\n",
      "5. **Jupiter**\n",
      "   - Radius: 69,911 km\n",
      "   - Mass: \\(1.898 \\times 10^{27}\\) kg\n",
      "\n",
      "6. **Saturn**\n",
      "   - Radius: 58,232 km\n",
      "   - Mass: \\(5.683 \\times 10^{26}\\) kg\n",
      "\n",
      "7. **Uranus**\n",
      "   - Radius: 25,362 km\n",
      "   - Mass: \\(8.681 \\times 10^{25}\\) kg\n",
      "\n",
      "8. **Neptune**\n",
      "   - Radius: 24,622 km\n",
      "   - Mass: \\(1.024 \\times 10^{26}\\) kg\n",
      "\n",
      "These values give a general idea of the sizes and masses of the planets, though individual measurements can vary somewhat based on the methods and standards used.\n"
     ]
    }
   ],
   "source": [
    "print(completion.choices[0].message.content)"
   ]
  },
  {
   "cell_type": "markdown",
   "id": "835c3c01-c86f-4943-a96e-98aa1515005f",
   "metadata": {},
   "source": [
    "# JSON Anyone?\n",
    "### What if we want it structured?\n",
    "- we can try manually asking the model for structured output, such as JSON"
   ]
  },
  {
   "cell_type": "code",
   "execution_count": 6,
   "id": "b43b5655-de6a-46f5-bed0-916f19bf36b1",
   "metadata": {},
   "outputs": [],
   "source": [
    "completion = client.chat.completions.create(\n",
    "    model=\"gpt-4o-mini\",\n",
    "    messages=[\n",
    "        {\"role\": \"system\", \"content\": \"You are a helpful assistant.\"},\n",
    "        {\n",
    "            \"role\": \"user\",\n",
    "            \"content\": \"What are the radii and masses of the planets in our solar system? Please output your response as JSON.\"\n",
    "        }\n",
    "    ]\n",
    ")"
   ]
  },
  {
   "cell_type": "code",
   "execution_count": 7,
   "id": "1e1070ed-e7d7-4418-a89b-d467e8dc12de",
   "metadata": {},
   "outputs": [
    {
     "name": "stdout",
     "output_type": "stream",
     "text": [
      "Here is the information regarding the radii and masses of the planets in our solar system, presented in JSON format:\n",
      "\n",
      "```json\n",
      "{\n",
      "  \"planets\": [\n",
      "    {\n",
      "      \"name\": \"Mercury\",\n",
      "      \"radius_km\": 2439.7,\n",
      "      \"mass_kg\": 3.3011e23\n",
      "    },\n",
      "    {\n",
      "      \"name\": \"Venus\",\n",
      "      \"radius_km\": 6051.8,\n",
      "      \"mass_kg\": 4.8675e24\n",
      "    },\n",
      "    {\n",
      "      \"name\": \"Earth\",\n",
      "      \"radius_km\": 6371.0,\n",
      "      \"mass_kg\": 5.9724e24\n",
      "    },\n",
      "    {\n",
      "      \"name\": \"Mars\",\n",
      "      \"radius_km\": 3389.5,\n",
      "      \"mass_kg\": 6.4171e23\n",
      "    },\n",
      "    {\n",
      "      \"name\": \"Jupiter\",\n",
      "      \"radius_km\": 69911.0,\n",
      "      \"mass_kg\": 1.8982e27\n",
      "    },\n",
      "    {\n",
      "      \"name\": \"Saturn\",\n",
      "      \"radius_km\": 58232.0,\n",
      "      \"mass_kg\": 5.6834e26\n",
      "    },\n",
      "    {\n",
      "      \"name\": \"Uranus\",\n",
      "      \"radius_km\": 25362.0,\n",
      "      \"mass_kg\": 8.6810e25\n",
      "    },\n",
      "    {\n",
      "      \"name\": \"Neptune\",\n",
      "      \"radius_km\": 24622.0,\n",
      "      \"mass_kg\": 1.02413e26\n",
      "    }\n",
      "  ]\n",
      "}\n",
      "```\n",
      "\n",
      "This JSON includes the names, radii in kilometers, and masses in kilograms for each of the eight planets in our solar system.\n"
     ]
    }
   ],
   "source": [
    "print(completion.choices[0].message.content)"
   ]
  },
  {
   "cell_type": "markdown",
   "id": "4e2da24d-2a5c-47f5-8e84-0eb9eea60269",
   "metadata": {},
   "source": [
    "### Parsing\n",
    "- it might not always be exactly just the structured output we suggest, but some regex and simple checks might solve that"
   ]
  },
  {
   "cell_type": "code",
   "execution_count": 9,
   "id": "94757aac-9710-4eb3-866e-5f184698a3b4",
   "metadata": {},
   "outputs": [
    {
     "name": "stdout",
     "output_type": "stream",
     "text": [
      "{\n",
      "  \"planets\": [\n",
      "    {\n",
      "      \"name\": \"Mercury\",\n",
      "      \"radius_km\": 2439.7,\n",
      "      \"mass_kg\": 3.3011e23\n",
      "    },\n",
      "    {\n",
      "      \"name\": \"Venus\",\n",
      "      \"radius_km\": 6051.8,\n",
      "      \"mass_kg\": 4.8675e24\n",
      "    },\n",
      "    {\n",
      "      \"name\": \"Earth\",\n",
      "      \"radius_km\": 6371.0,\n",
      "      \"mass_kg\": 5.9724e24\n",
      "    },\n",
      "    {\n",
      "      \"name\": \"Mars\",\n",
      "      \"radius_km\": 3389.5,\n",
      "      \"mass_kg\": 6.4171e23\n",
      "    },\n",
      "    {\n",
      "      \"name\": \"Jupiter\",\n",
      "      \"radius_km\": 69911.0,\n",
      "      \"mass_kg\": 1.8982e27\n",
      "    },\n",
      "    {\n",
      "      \"name\": \"Saturn\",\n",
      "      \"radius_km\": 58232.0,\n",
      "      \"mass_kg\": 5.6834e26\n",
      "    },\n",
      "    {\n",
      "      \"name\": \"Uranus\",\n",
      "      \"radius_km\": 25362.0,\n",
      "      \"mass_kg\": 8.6810e25\n",
      "    },\n",
      "    {\n",
      "      \"name\": \"Neptune\",\n",
      "      \"radius_km\": 24622.0,\n",
      "      \"mass_kg\": 1.02413e26\n",
      "    }\n",
      "  ]\n",
      "}\n"
     ]
    }
   ],
   "source": [
    "response = completion.choices[0].message.content\n",
    "\n",
    "pattern = r\"```json(.*?)```\"\n",
    "matches = re.findall(pattern, response, re.DOTALL)\n",
    "for match in matches:\n",
    "    print(match.strip())"
   ]
  },
  {
   "cell_type": "markdown",
   "id": "5b7985fc-581e-49ce-a60f-6d300fa4abd0",
   "metadata": {},
   "source": [
    "- finally we can convert this to json"
   ]
  },
  {
   "cell_type": "code",
   "execution_count": 15,
   "id": "1e0c62f1-4f55-4932-be0f-bf73ecaf74dc",
   "metadata": {},
   "outputs": [
    {
     "data": {
      "text/plain": [
       "{'planets': [{'name': 'Mercury', 'radius_km': 2439.7, 'mass_kg': 3.3011e+23},\n",
       "  {'name': 'Venus', 'radius_km': 6051.8, 'mass_kg': 4.8675e+24},\n",
       "  {'name': 'Earth', 'radius_km': 6371.0, 'mass_kg': 5.9724e+24},\n",
       "  {'name': 'Mars', 'radius_km': 3389.5, 'mass_kg': 6.4171e+23},\n",
       "  {'name': 'Jupiter', 'radius_km': 69911.0, 'mass_kg': 1.8982e+27},\n",
       "  {'name': 'Saturn', 'radius_km': 58232.0, 'mass_kg': 5.6834e+26},\n",
       "  {'name': 'Uranus', 'radius_km': 25362.0, 'mass_kg': 8.681e+25},\n",
       "  {'name': 'Neptune', 'radius_km': 24622.0, 'mass_kg': 1.02413e+26}]}"
      ]
     },
     "execution_count": 15,
     "metadata": {},
     "output_type": "execute_result"
    }
   ],
   "source": [
    "json_response = json.loads(match)\n",
    "json_response"
   ]
  },
  {
   "cell_type": "markdown",
   "id": "4fae28aa-59ac-4de0-ad66-4d1998dd28df",
   "metadata": {},
   "source": [
    "# Consistency\n",
    "- is this structure consistent? can we gaurantee the model will generate the same JSON every time, and the same python dict object can be parsed each time?\n",
    "- what if we define a python object, and every time we get a response we can create an instance of that object?"
   ]
  },
  {
   "cell_type": "code",
   "execution_count": 5,
   "id": "d86d80d2-3c25-4287-949e-dd2c7e78c0fb",
   "metadata": {},
   "outputs": [],
   "source": [
    "class Planet(BaseModel):\n",
    "    name: str\n",
    "    radius: float\n",
    "    mass: float\n",
    "    \n",
    "class Result(BaseModel):\n",
    "    planets: List[Planet]\n",
    "\n",
    "completion = client.beta.chat.completions.parse(\n",
    "    model=\"gpt-4o-mini\",\n",
    "    messages=[\n",
    "        {\"role\": \"system\", \"content\": \"You are a helpful assistant.\"},\n",
    "        {\n",
    "            \"role\": \"user\",\n",
    "            \"content\": \"What are the radii and masses of the planets in our solar system? Please output your response as JSON.\"\n",
    "        }\n",
    "    ],\n",
    "    response_format=Result\n",
    ")"
   ]
  },
  {
   "cell_type": "code",
   "execution_count": 13,
   "id": "b01ccbc3-d2c0-4f25-9ce5-c0edcf9f183b",
   "metadata": {},
   "outputs": [
    {
     "data": {
      "text/plain": [
       "('gpt-4o-mini-2024-07-18',\n",
       " CompletionUsage(completion_tokens=143, prompt_tokens=134, total_tokens=277, completion_tokens_details=CompletionTokensDetails(accepted_prediction_tokens=0, audio_tokens=0, reasoning_tokens=0, rejected_prediction_tokens=0), prompt_tokens_details=PromptTokensDetails(audio_tokens=0, cached_tokens=0)))"
      ]
     },
     "execution_count": 13,
     "metadata": {},
     "output_type": "execute_result"
    }
   ],
   "source": [
    "completion.model, completion.usage"
   ]
  },
  {
   "cell_type": "code",
   "execution_count": 14,
   "id": "f977b1b5-6019-4f23-9681-565d07cf6062",
   "metadata": {},
   "outputs": [],
   "source": [
    "result = completion.choices[0].message.parsed"
   ]
  },
  {
   "cell_type": "code",
   "execution_count": 19,
   "id": "a8fbbb34-e6c6-43ee-9569-98cac2a056c9",
   "metadata": {},
   "outputs": [
    {
     "name": "stdout",
     "output_type": "stream",
     "text": [
      "Mercury has a radius of 2439.7 km, and mass of 0.3302e+24 kg\n"
     ]
    }
   ],
   "source": [
    "print(f'{result.planets[0].name} has a radius of {result.planets[0].radius} km, and mass of {result.planets[0].mass}e+24 kg')"
   ]
  },
  {
   "cell_type": "code",
   "execution_count": null,
   "id": "1c78c2a9-748f-4203-9f78-59802a8ef87a",
   "metadata": {},
   "outputs": [],
   "source": []
  }
 ],
 "metadata": {
  "kernelspec": {
   "display_name": "Python 3 (ipykernel)",
   "language": "python",
   "name": "python3"
  },
  "language_info": {
   "codemirror_mode": {
    "name": "ipython",
    "version": 3
   },
   "file_extension": ".py",
   "mimetype": "text/x-python",
   "name": "python",
   "nbconvert_exporter": "python",
   "pygments_lexer": "ipython3",
   "version": "3.12.8"
  }
 },
 "nbformat": 4,
 "nbformat_minor": 5
}
